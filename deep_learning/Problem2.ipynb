{
 "cells": [
  {
   "cell_type": "markdown",
   "metadata": {},
   "source": [
    "# Deep Learning Assignment 1 - Problem 2\n",
    "## Saber Sheybani\n",
    "See the report file for documentation and discussion."
   ]
  },
  {
   "cell_type": "code",
   "execution_count": 16,
   "metadata": {},
   "outputs": [],
   "source": [
    "import os \n",
    "os.environ[\"CUDA_DEVICE_ORDER\"]=\"PCI_BUS_ID\" \n",
    "os.environ[\"CUDA_VISIBLE_DEVICES\"]=\"5\"\n",
    "\n",
    "import torch\n",
    "from torch.autograd import Variable\n",
    "import torch.nn as nn\n",
    "import torch.nn.functional as F\n",
    "import torch.optim as optim\n",
    "from torchvision import datasets, transforms\n",
    "import numpy as np\n",
    "import matplotlib.pyplot as plt\n",
    "import librosa\n",
    "from librosa.display import specshow as specshow"
   ]
  },
  {
   "cell_type": "code",
   "execution_count": 17,
   "metadata": {},
   "outputs": [],
   "source": [
    "hop_length=512\n",
    "n_fft=1024\n",
    "s, sr=librosa.load('train_clean_male.wav', sr=None)\n",
    "S=librosa.stft(s, n_fft=n_fft, hop_length=hop_length)\n",
    "sn, sr=librosa.load('train_dirty_male.wav', sr=None)\n",
    "X=librosa.stft(sn, n_fft=n_fft, hop_length=hop_length)"
   ]
  },
  {
   "cell_type": "markdown",
   "metadata": {},
   "source": [
    "## Problem 2 - Question 7"
   ]
  },
  {
   "cell_type": "code",
   "execution_count": 18,
   "metadata": {},
   "outputs": [],
   "source": [
    "# Take the amplitude of the spectrogram and visualize it\n",
    "S_mag = np.abs(S)\n",
    "S_phase = np.angle(S)\n",
    "X_mag = np.abs(X)\n",
    "#specshow(librosa.amplitude_to_db(S,\n",
    "#                                                ref=np.max),\n",
    "#                        y_axis='log', x_axis='time')\n",
    "#plt.title('Power spectrogram')\n",
    "#plt.colorbar(format='%+2.0f dB')\n",
    "#plt.tight_layout()"
   ]
  },
  {
   "cell_type": "markdown",
   "metadata": {},
   "source": [
    "## Problem 2 - Question 8,9: Train a network"
   ]
  },
  {
   "cell_type": "code",
   "execution_count": 29,
   "metadata": {},
   "outputs": [],
   "source": [
    "# We need a new network class that returns the output of all the layers, consuming more memory. \n",
    "\n",
    "class DenoiseNet(nn.Module):\n",
    "    def __init__(self, nin, nout):\n",
    "        super(DenoiseNet, self).__init__()\n",
    "        self.fc1 = nn.Linear(nin, 512)\n",
    "        self.fc2 = nn.Linear(512, 1024)\n",
    "        self.fc3 = nn.Linear(1024, 1024)\n",
    "        self.outl = nn.Linear(1024, nout)\n",
    "\n",
    "    def forward(self, x):\n",
    "        z = F.relu(self.fc1(x))\n",
    "        z = F.leaky_relu(self.fc2(z))\n",
    "        z = F.relu(self.fc3(z))\n",
    "        y = self.outl(z)\n",
    "        return F.relu(y)\n",
    "        #return F.log_softmax(x,dim=0)"
   ]
  },
  {
   "cell_type": "code",
   "execution_count": 36,
   "metadata": {},
   "outputs": [],
   "source": [
    "learning_rate=0.001\n",
    "net = DenoiseNet(S_mag.shape[0], X_mag.shape[0])\n",
    "optimizer = optim.Adam(net.parameters(), lr = learning_rate)\n",
    "criterion = nn.MSELoss()\n"
   ]
  },
  {
   "cell_type": "code",
   "execution_count": 37,
   "metadata": {},
   "outputs": [],
   "source": [
    "epochs=1\n",
    "log_interval=10\n",
    "maxIter=800"
   ]
  },
  {
   "cell_type": "code",
   "execution_count": null,
   "metadata": {},
   "outputs": [],
   "source": [
    "sp_data, target = Variable(torch.from_numpy(np.transpose(S_mag))), Variable(torch.from_numpy(np.transpose(X_mag)))\n",
    "loss_orig = criterion(sp_data, target)\n",
    "# run the main training loop\n",
    "for epoch in range(epochs):\n",
    "    for i in range(maxIter):\n",
    "        optimizer.zero_grad()\n",
    "        net_out = net(sp_data)\n",
    "        loss = criterion(net_out, target)        \n",
    "        loss.backward()\n",
    "        optimizer.step()\n",
    "        #pred = net_out.data.max(1)[1]  # get the index of the max log-probability\n",
    "        #correct += (net_out.data-target.data).sum()\n",
    "        if i % log_interval == 0:\n",
    "            print(\"Iteration:\", i, \"Loss Change = \", loss.data/loss_orig.data)\n",
    "            \n",
    "loss_change = loss.data/loss_orig.data\n",
    "print(\"New Error / Original Error = \", loss_change)"
   ]
  },
  {
   "cell_type": "code",
   "execution_count": 33,
   "metadata": {},
   "outputs": [],
   "source": [
    "# Save the results in time-domain\n",
    "S_hat = np.transpose(net_out.data.numpy())*np.exp(1j*S_phase)\n",
    "s_hat = librosa.istft(S_hat, hop_length=hop_length)\n",
    "librosa.output.write_wav('train_output1.wav', s_hat, sr=sr)"
   ]
  },
  {
   "cell_type": "code",
   "execution_count": 31,
   "metadata": {
    "collapsed": true
   },
   "outputs": [
    {
     "name": "stdout",
     "output_type": "stream",
     "text": [
      "Iteration: 368 Loss Change =  \n",
      " 2.6173\n",
      "[torch.FloatTensor of size 1]\n",
      "\n",
      "Iteration: 368 Loss Change =  \n",
      " 9.4759\n",
      "[torch.FloatTensor of size 1]\n",
      "\n",
      "Iteration: 368 Loss Change =  \n",
      " 4.6225\n",
      "[torch.FloatTensor of size 1]\n",
      "\n",
      "Iteration: 368 Loss Change =  \n",
      " 5.0051\n",
      "[torch.FloatTensor of size 1]\n",
      "\n",
      "Iteration: 368 Loss Change =  \n",
      " 4.8757\n",
      "[torch.FloatTensor of size 1]\n",
      "\n",
      "Iteration: 368 Loss Change =  \n",
      " 2.3903\n",
      "[torch.FloatTensor of size 1]\n",
      "\n",
      "Iteration: 368 Loss Change =  \n",
      " 7.3473\n",
      "[torch.FloatTensor of size 1]\n",
      "\n",
      "Iteration: 368 Loss Change =  \n",
      " 1.2159\n",
      "[torch.FloatTensor of size 1]\n",
      "\n",
      "Iteration: 368 Loss Change =  \n",
      " 2.8141\n",
      "[torch.FloatTensor of size 1]\n",
      "\n",
      "Iteration: 368 Loss Change =  \n",
      " 5.0597\n",
      "[torch.FloatTensor of size 1]\n",
      "\n",
      "Iteration: 368 Loss Change =  \n",
      " 1.3054\n",
      "[torch.FloatTensor of size 1]\n",
      "\n",
      "Iteration: 368 Loss Change =  \n",
      " 2.5931\n",
      "[torch.FloatTensor of size 1]\n",
      "\n",
      "New Error / Original Error =  \n",
      " 2.5931\n",
      "[torch.FloatTensor of size 1]\n",
      "\n"
     ]
    }
   ],
   "source": [
    "# Mini-batching\n",
    "\n",
    "train_dataset = torch.utils.data.TensorDataset(torch.from_numpy(S_mag), torch.from_numpy(X_mag))\n",
    "train_loader = torch.utils.data.DataLoader(train_dataset, batch_size=32, shuffle=True, drop_last=True)\n",
    "batch_size=32\n",
    "\n",
    "epochs=3\n",
    "log_interval=5\n",
    "test_batch_size=1024\n",
    "maxIter=1\n",
    "\n",
    "sp_data, target = Variable(torch.from_numpy(S_mag)), Variable(torch.from_numpy(X_mag))\n",
    "loss_orig = criterion(sp_data, target)\n",
    "\n",
    "for epoch in range(epochs):\n",
    "    for batch_idx, (sp_data, target) in enumerate(train_loader):\n",
    "        sp_data, target = Variable(sp_data), Variable(target)\n",
    "        optimizer.zero_grad()\n",
    "        net_out = net(sp_data)\n",
    "        loss = criterion(net_out, target)        \n",
    "        loss.backward()\n",
    "        optimizer.step()\n",
    "        if batch_idx % log_interval == 0:\n",
    "            print(\"Iteration:\", i, \"Loss Change = \", loss.data/loss_orig.data)\n",
    "loss_change = loss.data/loss_orig.data\n",
    "print(\"New Error / Original Error = \", loss_change)"
   ]
  },
  {
   "cell_type": "markdown",
   "metadata": {},
   "source": [
    "## Problem 2 - Question 10,11: Test 1"
   ]
  },
  {
   "cell_type": "code",
   "execution_count": 39,
   "metadata": {},
   "outputs": [],
   "source": [
    "hop_length=512\n",
    "n_fft=1024\n",
    "s, sr=librosa.load('test_x_01.wav', sr=None)\n",
    "S=librosa.stft(s, n_fft=n_fft, hop_length=hop_length)\n",
    "\n",
    "S_mag = np.abs(S)\n",
    "S_phase = np.angle(S)\n",
    "\n",
    "sp_data = Variable(torch.from_numpy(np.transpose(S_mag)))\n",
    "net_out = net(sp_data)\n",
    "\n",
    "S_hat = np.transpose(net_out.data.numpy())*np.exp(1j*S_phase)\n",
    "s_hat = librosa.istft(S_hat, hop_length=hop_length)\n",
    "librosa.output.write_wav('test_s_01_recons.wav', s_hat, sr=sr)"
   ]
  },
  {
   "cell_type": "markdown",
   "metadata": {},
   "source": [
    "## Problem 2 - Question 12: Test 2"
   ]
  },
  {
   "cell_type": "code",
   "execution_count": 40,
   "metadata": {},
   "outputs": [],
   "source": [
    "hop_length=512\n",
    "n_fft=1024\n",
    "s, sr=librosa.load('test_x_02.wav', sr=None)\n",
    "S=librosa.stft(s, n_fft=n_fft, hop_length=hop_length)\n",
    "\n",
    "S_mag = np.abs(S)\n",
    "S_phase = np.angle(S)\n",
    "\n",
    "sp_data = Variable(torch.from_numpy(np.transpose(S_mag)))\n",
    "net_out = net(sp_data)\n",
    "\n",
    "S_hat = np.transpose(net_out.data.numpy())*np.exp(1j*S_phase)\n",
    "s_hat = librosa.istft(S_hat, hop_length=hop_length)\n",
    "librosa.output.write_wav('test_s_02_recons.wav', s_hat, sr=sr)"
   ]
  }
 ],
 "metadata": {
  "kernelspec": {
   "display_name": "Python 3",
   "language": "python",
   "name": "python3"
  },
  "language_info": {
   "codemirror_mode": {
    "name": "ipython",
    "version": 3
   },
   "file_extension": ".py",
   "mimetype": "text/x-python",
   "name": "python",
   "nbconvert_exporter": "python",
   "pygments_lexer": "ipython3",
   "version": "3.6.4"
  }
 },
 "nbformat": 4,
 "nbformat_minor": 2
}
